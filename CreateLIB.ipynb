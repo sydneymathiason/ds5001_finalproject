{
 "cells": [
  {
   "cell_type": "code",
   "execution_count": 1,
   "id": "55814686-9ab8-4b72-9d8b-fc8c62a909d8",
   "metadata": {
    "tags": []
   },
   "outputs": [],
   "source": [
    "import pandas as pd\n",
    "import os"
   ]
  },
  {
   "cell_type": "code",
   "execution_count": 2,
   "id": "d7700241-f8bf-44e1-b7ca-77562d9a136f",
   "metadata": {
    "tags": []
   },
   "outputs": [],
   "source": [
    "LIB = pd.DataFrame({'title':['Hunger Games', 'Catching Fire', 'Mockingjay', 'Divergent', 'Insurgent', 'Allegiant'],\n",
    "             'author':['Collins', 'Collins', 'Collins', 'Roth', 'Roth', 'Roth'],\n",
    "             'year': ['2008', '2009', '2010', '2011', '2012', '2013'],\n",
    "             'genre':['adventure', 'dystopian', 'adventure', 'dystopian', 'romance', 'romance'],\n",
    "             'cover color':['black', 'red', 'blue', 'blue', 'green', 'red']})"
   ]
  },
  {
   "cell_type": "code",
   "execution_count": 3,
   "id": "70639506-286b-477f-b74e-a41ca120c82b",
   "metadata": {
    "tags": []
   },
   "outputs": [
    {
     "data": {
      "text/html": [
       "<div>\n",
       "<style scoped>\n",
       "    .dataframe tbody tr th:only-of-type {\n",
       "        vertical-align: middle;\n",
       "    }\n",
       "\n",
       "    .dataframe tbody tr th {\n",
       "        vertical-align: top;\n",
       "    }\n",
       "\n",
       "    .dataframe thead th {\n",
       "        text-align: right;\n",
       "    }\n",
       "</style>\n",
       "<table border=\"1\" class=\"dataframe\">\n",
       "  <thead>\n",
       "    <tr style=\"text-align: right;\">\n",
       "      <th></th>\n",
       "      <th>title</th>\n",
       "      <th>author</th>\n",
       "      <th>year</th>\n",
       "      <th>genre</th>\n",
       "      <th>cover color</th>\n",
       "    </tr>\n",
       "  </thead>\n",
       "  <tbody>\n",
       "    <tr>\n",
       "      <th>0</th>\n",
       "      <td>Hunger Games</td>\n",
       "      <td>Collins</td>\n",
       "      <td>2008</td>\n",
       "      <td>adventure</td>\n",
       "      <td>black</td>\n",
       "    </tr>\n",
       "    <tr>\n",
       "      <th>1</th>\n",
       "      <td>Catching Fire</td>\n",
       "      <td>Collins</td>\n",
       "      <td>2009</td>\n",
       "      <td>dystopian</td>\n",
       "      <td>red</td>\n",
       "    </tr>\n",
       "    <tr>\n",
       "      <th>2</th>\n",
       "      <td>Mockingjay</td>\n",
       "      <td>Collins</td>\n",
       "      <td>2010</td>\n",
       "      <td>adventure</td>\n",
       "      <td>blue</td>\n",
       "    </tr>\n",
       "    <tr>\n",
       "      <th>3</th>\n",
       "      <td>Divergent</td>\n",
       "      <td>Roth</td>\n",
       "      <td>2011</td>\n",
       "      <td>dystopian</td>\n",
       "      <td>blue</td>\n",
       "    </tr>\n",
       "    <tr>\n",
       "      <th>4</th>\n",
       "      <td>Insurgent</td>\n",
       "      <td>Roth</td>\n",
       "      <td>2012</td>\n",
       "      <td>romance</td>\n",
       "      <td>green</td>\n",
       "    </tr>\n",
       "    <tr>\n",
       "      <th>5</th>\n",
       "      <td>Allegiant</td>\n",
       "      <td>Roth</td>\n",
       "      <td>2013</td>\n",
       "      <td>romance</td>\n",
       "      <td>red</td>\n",
       "    </tr>\n",
       "  </tbody>\n",
       "</table>\n",
       "</div>"
      ],
      "text/plain": [
       "           title   author  year      genre cover color\n",
       "0   Hunger Games  Collins  2008  adventure       black\n",
       "1  Catching Fire  Collins  2009  dystopian         red\n",
       "2     Mockingjay  Collins  2010  adventure        blue\n",
       "3      Divergent     Roth  2011  dystopian        blue\n",
       "4      Insurgent     Roth  2012    romance       green\n",
       "5      Allegiant     Roth  2013    romance         red"
      ]
     },
     "execution_count": 3,
     "metadata": {},
     "output_type": "execute_result"
    }
   ],
   "source": [
    "LIB"
   ]
  },
  {
   "cell_type": "code",
   "execution_count": 4,
   "id": "f87665f6-832f-4e66-80e1-5682f557b2e2",
   "metadata": {
    "tags": []
   },
   "outputs": [],
   "source": [
    "LIB['file'] = LIB['author']+\"_\"+LIB['title'].str.replace(\" \", \"\")"
   ]
  },
  {
   "cell_type": "code",
   "execution_count": 5,
   "id": "dfd8304b-253a-417a-98f6-2f74ef718d40",
   "metadata": {
    "tags": []
   },
   "outputs": [],
   "source": [
    "LIB['txt_str'] = \"Books/\"+LIB['file']+\".txt\""
   ]
  },
  {
   "cell_type": "code",
   "execution_count": 6,
   "id": "becc4241-71f8-4c1d-b49a-a1ec94efac2c",
   "metadata": {
    "tags": []
   },
   "outputs": [
    {
     "data": {
      "text/html": [
       "<div>\n",
       "<style scoped>\n",
       "    .dataframe tbody tr th:only-of-type {\n",
       "        vertical-align: middle;\n",
       "    }\n",
       "\n",
       "    .dataframe tbody tr th {\n",
       "        vertical-align: top;\n",
       "    }\n",
       "\n",
       "    .dataframe thead th {\n",
       "        text-align: right;\n",
       "    }\n",
       "</style>\n",
       "<table border=\"1\" class=\"dataframe\">\n",
       "  <thead>\n",
       "    <tr style=\"text-align: right;\">\n",
       "      <th></th>\n",
       "      <th>title</th>\n",
       "      <th>author</th>\n",
       "      <th>year</th>\n",
       "      <th>genre</th>\n",
       "      <th>cover color</th>\n",
       "      <th>file</th>\n",
       "      <th>txt_str</th>\n",
       "    </tr>\n",
       "  </thead>\n",
       "  <tbody>\n",
       "    <tr>\n",
       "      <th>0</th>\n",
       "      <td>Hunger Games</td>\n",
       "      <td>Collins</td>\n",
       "      <td>2008</td>\n",
       "      <td>adventure</td>\n",
       "      <td>black</td>\n",
       "      <td>Collins_HungerGames</td>\n",
       "      <td>Books/Collins_HungerGames.txt</td>\n",
       "    </tr>\n",
       "    <tr>\n",
       "      <th>1</th>\n",
       "      <td>Catching Fire</td>\n",
       "      <td>Collins</td>\n",
       "      <td>2009</td>\n",
       "      <td>dystopian</td>\n",
       "      <td>red</td>\n",
       "      <td>Collins_CatchingFire</td>\n",
       "      <td>Books/Collins_CatchingFire.txt</td>\n",
       "    </tr>\n",
       "    <tr>\n",
       "      <th>2</th>\n",
       "      <td>Mockingjay</td>\n",
       "      <td>Collins</td>\n",
       "      <td>2010</td>\n",
       "      <td>adventure</td>\n",
       "      <td>blue</td>\n",
       "      <td>Collins_Mockingjay</td>\n",
       "      <td>Books/Collins_Mockingjay.txt</td>\n",
       "    </tr>\n",
       "    <tr>\n",
       "      <th>3</th>\n",
       "      <td>Divergent</td>\n",
       "      <td>Roth</td>\n",
       "      <td>2011</td>\n",
       "      <td>dystopian</td>\n",
       "      <td>blue</td>\n",
       "      <td>Roth_Divergent</td>\n",
       "      <td>Books/Roth_Divergent.txt</td>\n",
       "    </tr>\n",
       "    <tr>\n",
       "      <th>4</th>\n",
       "      <td>Insurgent</td>\n",
       "      <td>Roth</td>\n",
       "      <td>2012</td>\n",
       "      <td>romance</td>\n",
       "      <td>green</td>\n",
       "      <td>Roth_Insurgent</td>\n",
       "      <td>Books/Roth_Insurgent.txt</td>\n",
       "    </tr>\n",
       "    <tr>\n",
       "      <th>5</th>\n",
       "      <td>Allegiant</td>\n",
       "      <td>Roth</td>\n",
       "      <td>2013</td>\n",
       "      <td>romance</td>\n",
       "      <td>red</td>\n",
       "      <td>Roth_Allegiant</td>\n",
       "      <td>Books/Roth_Allegiant.txt</td>\n",
       "    </tr>\n",
       "  </tbody>\n",
       "</table>\n",
       "</div>"
      ],
      "text/plain": [
       "           title   author  year      genre cover color                  file  \\\n",
       "0   Hunger Games  Collins  2008  adventure       black   Collins_HungerGames   \n",
       "1  Catching Fire  Collins  2009  dystopian         red  Collins_CatchingFire   \n",
       "2     Mockingjay  Collins  2010  adventure        blue    Collins_Mockingjay   \n",
       "3      Divergent     Roth  2011  dystopian        blue        Roth_Divergent   \n",
       "4      Insurgent     Roth  2012    romance       green        Roth_Insurgent   \n",
       "5      Allegiant     Roth  2013    romance         red        Roth_Allegiant   \n",
       "\n",
       "                          txt_str  \n",
       "0   Books/Collins_HungerGames.txt  \n",
       "1  Books/Collins_CatchingFire.txt  \n",
       "2    Books/Collins_Mockingjay.txt  \n",
       "3        Books/Roth_Divergent.txt  \n",
       "4        Books/Roth_Insurgent.txt  \n",
       "5        Books/Roth_Allegiant.txt  "
      ]
     },
     "execution_count": 6,
     "metadata": {},
     "output_type": "execute_result"
    }
   ],
   "source": [
    "LIB"
   ]
  },
  {
   "cell_type": "code",
   "execution_count": 7,
   "id": "a4b57ce8-4968-4092-807c-e8ed1c7b2347",
   "metadata": {
    "tags": []
   },
   "outputs": [],
   "source": [
    "os.chdir(\"/Users/sydneymathiason/Documents/MSDS/Spring/DS5001/final_project\")\n",
    "length_books = []\n",
    "for text_file in LIB['txt_str']:\n",
    "    text = open(text_file, 'r').read()\n",
    "    length_books.append(len(text))"
   ]
  },
  {
   "cell_type": "code",
   "execution_count": 8,
   "id": "094f0725-c49f-4d35-becc-b27422396c5a",
   "metadata": {
    "tags": []
   },
   "outputs": [],
   "source": [
    "LIB['n_char'] = length_books"
   ]
  },
  {
   "cell_type": "code",
   "execution_count": 9,
   "id": "6a32e7ef-4c97-4d37-842c-c491f3e4e058",
   "metadata": {
    "tags": []
   },
   "outputs": [
    {
     "data": {
      "text/html": [
       "<div>\n",
       "<style scoped>\n",
       "    .dataframe tbody tr th:only-of-type {\n",
       "        vertical-align: middle;\n",
       "    }\n",
       "\n",
       "    .dataframe tbody tr th {\n",
       "        vertical-align: top;\n",
       "    }\n",
       "\n",
       "    .dataframe thead th {\n",
       "        text-align: right;\n",
       "    }\n",
       "</style>\n",
       "<table border=\"1\" class=\"dataframe\">\n",
       "  <thead>\n",
       "    <tr style=\"text-align: right;\">\n",
       "      <th></th>\n",
       "      <th>title</th>\n",
       "      <th>author</th>\n",
       "      <th>year</th>\n",
       "      <th>genre</th>\n",
       "      <th>cover color</th>\n",
       "      <th>file</th>\n",
       "      <th>txt_str</th>\n",
       "      <th>n_char</th>\n",
       "    </tr>\n",
       "  </thead>\n",
       "  <tbody>\n",
       "    <tr>\n",
       "      <th>0</th>\n",
       "      <td>Hunger Games</td>\n",
       "      <td>Collins</td>\n",
       "      <td>2008</td>\n",
       "      <td>adventure</td>\n",
       "      <td>black</td>\n",
       "      <td>Collins_HungerGames</td>\n",
       "      <td>Books/Collins_HungerGames.txt</td>\n",
       "      <td>542639</td>\n",
       "    </tr>\n",
       "    <tr>\n",
       "      <th>1</th>\n",
       "      <td>Catching Fire</td>\n",
       "      <td>Collins</td>\n",
       "      <td>2009</td>\n",
       "      <td>dystopian</td>\n",
       "      <td>red</td>\n",
       "      <td>Collins_CatchingFire</td>\n",
       "      <td>Books/Collins_CatchingFire.txt</td>\n",
       "      <td>649248</td>\n",
       "    </tr>\n",
       "    <tr>\n",
       "      <th>2</th>\n",
       "      <td>Mockingjay</td>\n",
       "      <td>Collins</td>\n",
       "      <td>2010</td>\n",
       "      <td>adventure</td>\n",
       "      <td>blue</td>\n",
       "      <td>Collins_Mockingjay</td>\n",
       "      <td>Books/Collins_Mockingjay.txt</td>\n",
       "      <td>561779</td>\n",
       "    </tr>\n",
       "    <tr>\n",
       "      <th>3</th>\n",
       "      <td>Divergent</td>\n",
       "      <td>Roth</td>\n",
       "      <td>2011</td>\n",
       "      <td>dystopian</td>\n",
       "      <td>blue</td>\n",
       "      <td>Roth_Divergent</td>\n",
       "      <td>Books/Roth_Divergent.txt</td>\n",
       "      <td>663128</td>\n",
       "    </tr>\n",
       "    <tr>\n",
       "      <th>4</th>\n",
       "      <td>Insurgent</td>\n",
       "      <td>Roth</td>\n",
       "      <td>2012</td>\n",
       "      <td>romance</td>\n",
       "      <td>green</td>\n",
       "      <td>Roth_Insurgent</td>\n",
       "      <td>Books/Roth_Insurgent.txt</td>\n",
       "      <td>578407</td>\n",
       "    </tr>\n",
       "    <tr>\n",
       "      <th>5</th>\n",
       "      <td>Allegiant</td>\n",
       "      <td>Roth</td>\n",
       "      <td>2013</td>\n",
       "      <td>romance</td>\n",
       "      <td>red</td>\n",
       "      <td>Roth_Allegiant</td>\n",
       "      <td>Books/Roth_Allegiant.txt</td>\n",
       "      <td>603333</td>\n",
       "    </tr>\n",
       "  </tbody>\n",
       "</table>\n",
       "</div>"
      ],
      "text/plain": [
       "           title   author  year      genre cover color                  file  \\\n",
       "0   Hunger Games  Collins  2008  adventure       black   Collins_HungerGames   \n",
       "1  Catching Fire  Collins  2009  dystopian         red  Collins_CatchingFire   \n",
       "2     Mockingjay  Collins  2010  adventure        blue    Collins_Mockingjay   \n",
       "3      Divergent     Roth  2011  dystopian        blue        Roth_Divergent   \n",
       "4      Insurgent     Roth  2012    romance       green        Roth_Insurgent   \n",
       "5      Allegiant     Roth  2013    romance         red        Roth_Allegiant   \n",
       "\n",
       "                          txt_str  n_char  \n",
       "0   Books/Collins_HungerGames.txt  542639  \n",
       "1  Books/Collins_CatchingFire.txt  649248  \n",
       "2    Books/Collins_Mockingjay.txt  561779  \n",
       "3        Books/Roth_Divergent.txt  663128  \n",
       "4        Books/Roth_Insurgent.txt  578407  \n",
       "5        Books/Roth_Allegiant.txt  603333  "
      ]
     },
     "execution_count": 9,
     "metadata": {},
     "output_type": "execute_result"
    }
   ],
   "source": [
    "LIB"
   ]
  },
  {
   "cell_type": "code",
   "execution_count": 10,
   "id": "d08624e7-363b-41fe-b3b7-eb05276f4f8b",
   "metadata": {
    "tags": []
   },
   "outputs": [
    {
     "data": {
      "text/plain": [
       "599755.6666666666"
      ]
     },
     "execution_count": 10,
     "metadata": {},
     "output_type": "execute_result"
    }
   ],
   "source": [
    "LIB['n_char'].mean()"
   ]
  },
  {
   "cell_type": "code",
   "execution_count": 11,
   "id": "064dcb6f-9477-4d5f-b113-b17dacad2a07",
   "metadata": {
    "tags": []
   },
   "outputs": [
    {
     "data": {
      "text/plain": [
       "Index(['title', 'author', 'year', 'genre', 'cover color', 'file', 'txt_str',\n",
       "       'n_char'],\n",
       "      dtype='object')"
      ]
     },
     "execution_count": 11,
     "metadata": {},
     "output_type": "execute_result"
    }
   ],
   "source": [
    "LIB.columns"
   ]
  },
  {
   "cell_type": "code",
   "execution_count": 12,
   "id": "3db3e12e-76e6-4f4e-b213-d1b4de2b919e",
   "metadata": {
    "tags": []
   },
   "outputs": [],
   "source": [
    "LIB.to_csv(\"data/LIB.csv\", index=False)"
   ]
  },
  {
   "cell_type": "code",
   "execution_count": null,
   "id": "e54095d3-b4bf-488b-8d58-c3b18597b896",
   "metadata": {},
   "outputs": [],
   "source": []
  }
 ],
 "metadata": {
  "kernelspec": {
   "display_name": "Python 3 (ipykernel)",
   "language": "python",
   "name": "python3"
  },
  "language_info": {
   "codemirror_mode": {
    "name": "ipython",
    "version": 3
   },
   "file_extension": ".py",
   "mimetype": "text/x-python",
   "name": "python",
   "nbconvert_exporter": "python",
   "pygments_lexer": "ipython3",
   "version": "3.11.5"
  }
 },
 "nbformat": 4,
 "nbformat_minor": 5
}
